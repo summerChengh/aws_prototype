{
 "cells": [
  {
   "cell_type": "code",
   "execution_count": null,
   "metadata": {
    "vscode": {
     "languageId": "plaintext"
    }
   },
   "outputs": [],
   "source": [
    "小时级数据分布\n",
    "天级别数据分布\n",
    "\n",
    "1. 过去一天、历史同一天、季节、城市、经纬度、月份\n",
    "2. 缺失值处理\n",
    "3. 当地工业发展/油车尾气排放量（比如近几年电车变多）==》可按年分析，bias\n",
    "\n",
    "sensors：\n",
    "provider：数据的可靠性和范围\n",
    "owner\n",
    "manufacturer\n",
    "parameters\n",
    "Measurements：\n",
    "hours/days/years 平均值\n",
    "聚合周期：\n",
    "hourly/daily/monthly/years\n",
    "summary：最小、最大、分位数、中值、均值、标准差\n",
    "coverage：时间范围、覆盖率（有效采集数据占比）\n",
    "\n",
    "locations：\n",
    "id、name、country、provider、owner、\n",
    "coordinates、instruments、sensors、licenses、\n",
    "timezone\n",
    "\n",
    "\n",
    "Timezones：统一成可区分：早晨、中午、傍晚、夜间几个段\n",
    "\n",
    "parameters\n",
    "\n",
    "\n",
    "\n",
    "NOAA Global Surface Summary of Day: \n",
    "Mean temperature (.1 Fahrenheit)\n",
    "Mean dew point (.1 Fahrenheit)\n",
    "Mean sea level pressure (.1 mb)\n",
    "Mean station pressure (.1 mb)\n",
    "Mean visibility (.1 miles)\n",
    "Mean wind speed (.1 knots)\n",
    "Maximum sustained wind speed (.1 knots)\n",
    "Maximum wind gust (.1 knots)\n",
    "Maximum temperature (.1 Fahrenheit)\n",
    "Minimum temperature (.1 Fahrenheit)\n",
    "Precipitation amount (.01 inches)\n",
    "Snow depth (.1 inches)\n",
    "Indicator for occurrence of: Fog, Rain or Drizzle, Snow or Ice Pellets, Hail, Thunder, Tornado/Funnel Cloud.\n",
    "\n"
   ]
  }
 ],
 "metadata": {
  "language_info": {
   "name": "python"
  }
 },
 "nbformat": 4,
 "nbformat_minor": 2
}
